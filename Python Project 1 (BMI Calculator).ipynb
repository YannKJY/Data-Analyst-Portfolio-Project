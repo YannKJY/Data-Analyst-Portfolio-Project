{
 "cells": [
  {
   "cell_type": "markdown",
   "id": "2250e4b0",
   "metadata": {},
   "source": [
    "# REFERENCES\n",
    "## https://www.calculator.net/bmi-calculator.html"
   ]
  },
  {
   "cell_type": "code",
   "execution_count": null,
   "id": "fea71703",
   "metadata": {},
   "outputs": [],
   "source": [
    "name = input(\"Enter you name: \")\n",
    "\n",
    "weight = float(input(\"Enter your weight in kg: \"))\n",
    "\n",
    "height = float(input(\"Enter your height in m: \"))\n",
    "\n",
    "BMI = weight/(height**2)\n",
    "\n",
    "print(f\"Your BMI is {round(BMI,1)}\")\n",
    "\n",
    "if BMI>0:\n",
    "    if(BMI<16):\n",
    "        print(name + \", you are severe thinness.\")\n",
    "    elif (BMI<=17):\n",
    "        print(name + \", you are moderate thinness.\")\n",
    "    elif (BMI<=18.5):\n",
    "        print(name + \", you are mild thinness.\")\n",
    "    elif (BMI<=25):\n",
    "        print(name + \", you are normal.\")\n",
    "    elif (BMI<=30):\n",
    "        print(name + \", you are overweight.\")\n",
    "    elif (BMI<=35):\n",
    "        print(name + \", you are Obese Class 1.\")\n",
    "    elif (BMI<=40):\n",
    "        print(name + \", you are Obese Class 2.\")\n",
    "    else:\n",
    "        print(name + \", you are Obese Class 3.\")\n",
    "else:\n",
    "    print(\"Enter valid input\")"
   ]
  },
  {
   "cell_type": "code",
   "execution_count": null,
   "id": "370536ce",
   "metadata": {},
   "outputs": [],
   "source": []
  }
 ],
 "metadata": {
  "kernelspec": {
   "display_name": "Python 3 (ipykernel)",
   "language": "python",
   "name": "python3"
  },
  "language_info": {
   "codemirror_mode": {
    "name": "ipython",
    "version": 3
   },
   "file_extension": ".py",
   "mimetype": "text/x-python",
   "name": "python",
   "nbconvert_exporter": "python",
   "pygments_lexer": "ipython3",
   "version": "3.9.13"
  }
 },
 "nbformat": 4,
 "nbformat_minor": 5
}
