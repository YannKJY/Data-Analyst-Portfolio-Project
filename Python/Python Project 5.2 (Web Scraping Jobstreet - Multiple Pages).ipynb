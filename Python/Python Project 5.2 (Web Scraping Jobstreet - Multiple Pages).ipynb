{
 "cells": [
  {
   "attachments": {},
   "cell_type": "markdown",
   "metadata": {},
   "source": [
    "# Web Scraping Part 2 (Jobstreet)\n",
    "## Done by: Yann\n",
    "### Source: https://www.jobstreet.com.sg/data-analyst-jobs/in-Singapore?pg=1\n",
    "\n",
    "#### The difference in Part 2 is that I'm trying to scrape information from multiple pages"
   ]
  },
  {
   "attachments": {},
   "cell_type": "markdown",
   "metadata": {},
   "source": [
    "##"
   ]
  },
  {
   "attachments": {},
   "cell_type": "markdown",
   "metadata": {},
   "source": [
    "### Import Libraries"
   ]
  },
  {
   "cell_type": "code",
   "execution_count": 1,
   "metadata": {},
   "outputs": [],
   "source": [
    "import csv\n",
    "import requests\n",
    "from bs4 import BeautifulSoup"
   ]
  },
  {
   "attachments": {},
   "cell_type": "markdown",
   "metadata": {},
   "source": [
    "##"
   ]
  },
  {
   "attachments": {},
   "cell_type": "markdown",
   "metadata": {},
   "source": [
    "### Specify base URL"
   ]
  },
  {
   "cell_type": "code",
   "execution_count": 3,
   "metadata": {},
   "outputs": [],
   "source": [
    "base_url = 'https://www.jobstreet.com.sg/data-analyst-jobs/in-Singapore?pg={}'"
   ]
  },
  {
   "attachments": {},
   "cell_type": "markdown",
   "metadata": {},
   "source": [
    "##"
   ]
  },
  {
   "cell_type": "code",
   "execution_count": 5,
   "metadata": {},
   "outputs": [],
   "source": [
    "# Specify the total number of pages you want to scrape\n",
    "total_pages = 5\n",
    "\n",
    "data_rows = []\n",
    "\n",
    "for page in range(1, total_pages + 1):\n",
    "    url = base_url.format(page)\n",
    "    response = requests.get(url)\n",
    "    soup = BeautifulSoup(response.content, 'html.parser')\n",
    "    job_listings = soup.find_all('div', class_='z1s6m00 _1hbhsw67i _1hbhsw66e _1hbhsw69q _1hbhsw68m _1hbhsw6n _1hbhsw65a _1hbhsw6ga _1hbhsw6fy')\n",
    "\n",
    "    for job in job_listings:    \n",
    "        # Get Title\n",
    "        title = job.find('span', class_='z1s6m00').text.strip()\n",
    "\n",
    "        # Get company name\n",
    "        company = job.find('a', class_='_6xa4xb0 z1s6m00 z1s6m0f rqoqz4').text.strip()  \n",
    "\n",
    "        # Get Salary info\n",
    "        salary_element = job.find('span', class_='z1s6m00 _1hbhsw64y y44q7i0 y44q7i3 y44q7i21 y44q7ih')    \n",
    "        if salary_element and salary_element.find_next_sibling('span', class_='z1s6m00 _1hbhsw64y y44q7i0 y44q7i3 y44q7i21 y44q7ih'):\n",
    "            salary = salary_element.find_next_sibling('span', class_='z1s6m00 _1hbhsw64y y44q7i0 y44q7i3 y44q7i21 y44q7ih').text.strip()\n",
    "        else:\n",
    "            salary = 'No Salary Displayed'\n",
    "        \n",
    "        # Get description    \n",
    "        selling_points = job.find('div', class_='z1s6m00 _1hbhsw6ba _1hbhsw64y')\n",
    "        if selling_points:\n",
    "            points = selling_points.find_all('span', class_='z1s6m00 _1hbhsw64y y44q7i0 y44q7i1 y44q7i21 _1d0g9qk4 y44q7i7')\n",
    "            if points:\n",
    "                selling_points_text = ', '.join(point.get_text() for point in points)\n",
    "            else:\n",
    "                selling_points_text = 'No selling points available'\n",
    "        else:\n",
    "            selling_points_text = 'No selling points available'\n",
    "\n",
    "\n",
    "        # Get date posted\n",
    "        exact_date = job.find('time', class_='z1s6m00 _1hbhsw64y')\n",
    "        date_posted = exact_date['datetime'].split('T')[0] if exact_date else 'No Date Available'\n",
    "        how_long_ago = job.find('span', class_='z1s6m00 _1hbhsw64y y44q7i0 y44q7i1 y44q7i22 y44q7ih').text.strip()\n",
    "\n",
    "        data_rows.append([title, company, salary, selling_points_text, date_posted, how_long_ago])\n",
    "\n",
    "# Write the data to CSV file\n",
    "with open('job_listings(Multiple).csv', 'w', newline='', encoding='utf-8') as csvfile:\n",
    "    writer = csv.writer(csvfile)\n",
    "    writer.writerow(['Title', 'Company', 'Salary', 'Description', 'Date Posted', 'Days Elapsed'])\n",
    "    writer.writerows(data_rows)"
   ]
  },
  {
   "attachments": {},
   "cell_type": "markdown",
   "metadata": {},
   "source": [
    "### Things to note\n",
    "##### 1 page will return me 30 results. So n pages will result in 30n pages\n",
    "##### I'm using this information to check if I'm getting the right number of results"
   ]
  },
  {
   "attachments": {},
   "cell_type": "markdown",
   "metadata": {},
   "source": []
  }
 ],
 "metadata": {
  "kernelspec": {
   "display_name": "base",
   "language": "python",
   "name": "python3"
  },
  "language_info": {
   "codemirror_mode": {
    "name": "ipython",
    "version": 3
   },
   "file_extension": ".py",
   "mimetype": "text/x-python",
   "name": "python",
   "nbconvert_exporter": "python",
   "pygments_lexer": "ipython3",
   "version": "3.9.13"
  },
  "orig_nbformat": 4
 },
 "nbformat": 4,
 "nbformat_minor": 2
}
