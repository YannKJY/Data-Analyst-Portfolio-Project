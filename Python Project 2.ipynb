{
 "cells": [
  {
   "cell_type": "code",
   "execution_count": 9,
   "id": "31fc255b",
   "metadata": {},
   "outputs": [],
   "source": [
    "import os, shutil"
   ]
  },
  {
   "cell_type": "code",
   "execution_count": 10,
   "id": "1c710c90",
   "metadata": {},
   "outputs": [],
   "source": [
    "path = r\"C:/Users/Rachel Kuek/OneDrive/Desktop/Data Analyst/Portfolio Projects/Python Project 2 (Automated File Sorter)/Files to be sorted/\""
   ]
  },
  {
   "cell_type": "code",
   "execution_count": 16,
   "id": "49b49960",
   "metadata": {},
   "outputs": [],
   "source": [
    "file_name = os.listdir(path)"
   ]
  },
  {
   "cell_type": "code",
   "execution_count": 17,
   "id": "825c1b59",
   "metadata": {},
   "outputs": [],
   "source": [
    "folder_names = ['Csv files', 'Image files', 'Text files']\n",
    "\n",
    "for loop in range(0,3):\n",
    "    if not os.path.exists(path + folder_names[loop]):\n",
    "        os.makedirs(path + folder_names[loop])"
   ]
  },
  {
   "cell_type": "code",
   "execution_count": 20,
   "id": "ea5807f0",
   "metadata": {},
   "outputs": [],
   "source": [
    "for file in file_name:\n",
    "    if \".csv\" in file and not os.path.exists(path + \"Csv files/\" + file):\n",
    "        shutil.move(path + file, path + \"Csv files/\" + file)\n",
    "    elif \".png\" in file and not os.path.exists(path + \"Image files/\" + file):\n",
    "        shutil.move(path + file, path + \"Image files/\" + file)\n",
    "    elif \".txt\" in file and not os.path.exists(path + \"Text files/\" + file):\n",
    "        shutil.move(path + file, path + \"Text files/\" + file)"
   ]
  },
  {
   "cell_type": "code",
   "execution_count": null,
   "id": "add0dfb9",
   "metadata": {},
   "outputs": [],
   "source": []
  }
 ],
 "metadata": {
  "kernelspec": {
   "display_name": "Python 3 (ipykernel)",
   "language": "python",
   "name": "python3"
  },
  "language_info": {
   "codemirror_mode": {
    "name": "ipython",
    "version": 3
   },
   "file_extension": ".py",
   "mimetype": "text/x-python",
   "name": "python",
   "nbconvert_exporter": "python",
   "pygments_lexer": "ipython3",
   "version": "3.9.13"
  }
 },
 "nbformat": 4,
 "nbformat_minor": 5
}
